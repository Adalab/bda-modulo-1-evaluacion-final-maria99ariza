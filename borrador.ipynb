{
 "cells": [
  {
   "cell_type": "code",
   "execution_count": 21,
   "metadata": {},
   "outputs": [],
   "source": [
    "inventario = []\n",
    "\n",
    "def agregar_producto(nombre, precio, cantidad):\n",
    "    for elemento in inventario:\n",
    "        if nombre == elemento['nombre']:\n",
    "            elemento['precio'] = precio\n",
    "            elemento['cantidad'] = cantidad\n",
    "            print(f'El artículo {nombre} se ha actualizado correctamente:')\n",
    "            print(f'Precio: {precio}')\n",
    "            print(f'Cantidad: {cantidad}')\n",
    "            print('-------------------------------------------------------')\n",
    "            return\n",
    "    \n",
    "    inventario.append({'nombre': nombre, 'precio': precio, 'cantidad': cantidad})\n",
    "    print(f'El artículo {nombre} se ha agregado correctamente:')\n",
    "    print(f'Precio: {precio}')\n",
    "    print(f'Cantidad: {cantidad}')\n",
    "    print('-------------------------------------------------------')\n",
    "        \n",
    "\n"
   ]
  },
  {
   "cell_type": "code",
   "execution_count": 22,
   "metadata": {},
   "outputs": [
    {
     "data": {
      "text/plain": [
       "[]"
      ]
     },
     "execution_count": 22,
     "metadata": {},
     "output_type": "execute_result"
    }
   ],
   "source": [
    "inventario"
   ]
  },
  {
   "cell_type": "code",
   "execution_count": 23,
   "metadata": {},
   "outputs": [
    {
     "name": "stdout",
     "output_type": "stream",
     "text": [
      "El artículo camiseta se ha agregado correctamente:\n",
      "Precio: 15\n",
      "Cantidad: 100\n",
      "-------------------------------------------------------\n"
     ]
    }
   ],
   "source": [
    "agregar_producto('camiseta', 15, 100)"
   ]
  },
  {
   "cell_type": "code",
   "execution_count": 24,
   "metadata": {},
   "outputs": [
    {
     "data": {
      "text/plain": [
       "[{'nombre': 'camiseta', 'precio': 15, 'cantidad': 100}]"
      ]
     },
     "execution_count": 24,
     "metadata": {},
     "output_type": "execute_result"
    }
   ],
   "source": [
    "inventario"
   ]
  },
  {
   "cell_type": "code",
   "execution_count": 25,
   "metadata": {},
   "outputs": [
    {
     "name": "stdout",
     "output_type": "stream",
     "text": [
      "El artículo pantanlones se ha agregado correctamente:\n",
      "Precio: 12\n",
      "Cantidad: 50\n",
      "-------------------------------------------------------\n"
     ]
    }
   ],
   "source": [
    "agregar_producto('pantanlones', 12, 50)"
   ]
  },
  {
   "cell_type": "code",
   "execution_count": 26,
   "metadata": {},
   "outputs": [
    {
     "data": {
      "text/plain": [
       "[{'nombre': 'camiseta', 'precio': 15, 'cantidad': 100},\n",
       " {'nombre': 'pantanlones', 'precio': 12, 'cantidad': 50}]"
      ]
     },
     "execution_count": 26,
     "metadata": {},
     "output_type": "execute_result"
    }
   ],
   "source": [
    "inventario"
   ]
  },
  {
   "cell_type": "code",
   "execution_count": 27,
   "metadata": {},
   "outputs": [
    {
     "name": "stdout",
     "output_type": "stream",
     "text": [
      "El artículo camiseta se ha actualizado correctamente:\n",
      "Precio: 10\n",
      "Cantidad: 50\n",
      "-------------------------------------------------------\n"
     ]
    }
   ],
   "source": [
    "agregar_producto('camiseta', 10, 50)"
   ]
  },
  {
   "cell_type": "code",
   "execution_count": 77,
   "metadata": {},
   "outputs": [
    {
     "data": {
      "text/plain": [
       "[{'nombre': 'camiseta', 'precio': 10, 'cantidad': 797},\n",
       " {'nombre': 'pantalones', 'precio': 35, 'cantidad': 200},\n",
       " {'nombre': 'chaqueta', 'precio': 40, 'cantidad': 150},\n",
       " {'nombre': 'calcetines', 'precio': 2, 'cantidad': 300},\n",
       " {'nombre': 'zapatos', 'precio': 50, 'cantidad': 1}]"
      ]
     },
     "execution_count": 77,
     "metadata": {},
     "output_type": "execute_result"
    }
   ],
   "source": [
    "inventario"
   ]
  },
  {
   "cell_type": "code",
   "execution_count": 29,
   "metadata": {},
   "outputs": [],
   "source": [
    "def ver_inventario():\n",
    "    for productos in inventario:\n",
    "        nombre = productos['nombre']\n",
    "        precio = productos['precio']\n",
    "        cantidad = productos['cantidad']\n",
    "        print(f'Nombre: {nombre}, Precio: {precio}€, Cantidad: {cantidad}')\n",
    "    return"
   ]
  },
  {
   "cell_type": "code",
   "execution_count": 30,
   "metadata": {},
   "outputs": [
    {
     "data": {
      "text/plain": [
       "[{'nombre': 'camiseta', 'precio': 10, 'cantidad': 50},\n",
       " {'nombre': 'pantanlones', 'precio': 12, 'cantidad': 50}]"
      ]
     },
     "execution_count": 30,
     "metadata": {},
     "output_type": "execute_result"
    }
   ],
   "source": [
    "inventario"
   ]
  },
  {
   "cell_type": "code",
   "execution_count": 31,
   "metadata": {},
   "outputs": [
    {
     "name": "stdout",
     "output_type": "stream",
     "text": [
      "Nombre: camiseta, Precio: 10€, Cantidad: 50\n",
      "Nombre: pantanlones, Precio: 12€, Cantidad: 50\n"
     ]
    }
   ],
   "source": [
    "ver_inventario()"
   ]
  },
  {
   "cell_type": "code",
   "execution_count": 32,
   "metadata": {},
   "outputs": [],
   "source": [
    "def buscar_producto(nombre):\n",
    "    for productos in inventario:\n",
    "        if nombre == productos['nombre']:\n",
    "            precio = productos['precio']\n",
    "            cantidad = productos['cantidad']\n",
    "            print(f'Nombre: {nombre}, Precio: {precio}€, Cantidad: {cantidad}')\n",
    "    return"
   ]
  },
  {
   "cell_type": "code",
   "execution_count": 33,
   "metadata": {},
   "outputs": [
    {
     "name": "stdout",
     "output_type": "stream",
     "text": [
      "Nombre: camiseta, Precio: 10€, Cantidad: 50\n"
     ]
    }
   ],
   "source": [
    "buscar_producto('camiseta')"
   ]
  },
  {
   "cell_type": "code",
   "execution_count": 34,
   "metadata": {},
   "outputs": [],
   "source": [
    "def actualizar_stock(nombre, cantidad):\n",
    "    for elemento in inventario:\n",
    "        if nombre == elemento['nombre']:\n",
    "            elemento['cantidad'] = cantidad\n",
    "            print(f'El stock de {nombre} se ha actualizado correctamente:')\n",
    "            print(f'Cantidad: {cantidad}')\n",
    "            print('-------------------------------------------------------')\n",
    "            return\n",
    "    \n",
    "        else:\n",
    "            print(f'El producto {nombre} no se encuentra en el inventario.')\n",
    "            break"
   ]
  },
  {
   "cell_type": "code",
   "execution_count": 35,
   "metadata": {},
   "outputs": [
    {
     "name": "stdout",
     "output_type": "stream",
     "text": [
      "El stock de camiseta se ha actualizado correctamente:\n",
      "Cantidad: 800\n",
      "-------------------------------------------------------\n"
     ]
    }
   ],
   "source": [
    "actualizar_stock('camiseta', 800)"
   ]
  },
  {
   "cell_type": "code",
   "execution_count": 36,
   "metadata": {},
   "outputs": [
    {
     "data": {
      "text/plain": [
       "[{'nombre': 'camiseta', 'precio': 10, 'cantidad': 800},\n",
       " {'nombre': 'pantanlones', 'precio': 12, 'cantidad': 50}]"
      ]
     },
     "execution_count": 36,
     "metadata": {},
     "output_type": "execute_result"
    }
   ],
   "source": [
    "inventario"
   ]
  },
  {
   "cell_type": "code",
   "execution_count": 37,
   "metadata": {},
   "outputs": [
    {
     "name": "stdout",
     "output_type": "stream",
     "text": [
      "El producto calcetines no se encuentra en el inventario.\n"
     ]
    }
   ],
   "source": [
    "actualizar_stock('calcetines', 50)"
   ]
  },
  {
   "cell_type": "code",
   "execution_count": 38,
   "metadata": {},
   "outputs": [],
   "source": [
    "inventario = [{'nombre': 'camiseta', 'precio': 10, 'cantidad': 800}, {'nombre': 'pantalones', 'precio': 12, 'cantidad': 50}]\n",
    "\n",
    "def eliminar_producto(nombre):\n",
    "    for elemento in inventario:\n",
    "        if nombre == elemento['nombre']:\n",
    "            inventario.remove(elemento)\n",
    "            print(f'El artículo {nombre} se ha eliminado correctamente:')\n",
    "            print('-------------------------------------------------------')\n",
    "            return\n",
    "    \n",
    "    print(f'El producto {nombre} no se encuentra en el inventario.')"
   ]
  },
  {
   "cell_type": "code",
   "execution_count": 39,
   "metadata": {},
   "outputs": [
    {
     "name": "stdout",
     "output_type": "stream",
     "text": [
      "El artículo pantalones se ha eliminado correctamente:\n",
      "-------------------------------------------------------\n"
     ]
    }
   ],
   "source": [
    "eliminar_producto('pantalones')"
   ]
  },
  {
   "cell_type": "code",
   "execution_count": 40,
   "metadata": {},
   "outputs": [
    {
     "name": "stdout",
     "output_type": "stream",
     "text": [
      "El artículo pantalones se ha agregado correctamente:\n",
      "Precio: 35\n",
      "Cantidad: 200\n",
      "-------------------------------------------------------\n",
      "El artículo chaqueta se ha agregado correctamente:\n",
      "Precio: 40\n",
      "Cantidad: 150\n",
      "-------------------------------------------------------\n",
      "El artículo calcetines se ha agregado correctamente:\n",
      "Precio: 2\n",
      "Cantidad: 300\n",
      "-------------------------------------------------------\n",
      "El artículo zapatos se ha agregado correctamente:\n",
      "Precio: 50\n",
      "Cantidad: 2\n",
      "-------------------------------------------------------\n"
     ]
    }
   ],
   "source": [
    "agregar_producto('pantalones', 35, 200)\n",
    "agregar_producto('chaqueta', 40, 150)\n",
    "agregar_producto('calcetines', 2, 300)\n",
    "agregar_producto('zapatos', 50, 2)"
   ]
  },
  {
   "cell_type": "code",
   "execution_count": 41,
   "metadata": {},
   "outputs": [
    {
     "data": {
      "text/plain": [
       "[{'nombre': 'camiseta', 'precio': 10, 'cantidad': 800},\n",
       " {'nombre': 'pantalones', 'precio': 35, 'cantidad': 200},\n",
       " {'nombre': 'chaqueta', 'precio': 40, 'cantidad': 150},\n",
       " {'nombre': 'calcetines', 'precio': 2, 'cantidad': 300},\n",
       " {'nombre': 'zapatos', 'precio': 50, 'cantidad': 2}]"
      ]
     },
     "execution_count": 41,
     "metadata": {},
     "output_type": "execute_result"
    }
   ],
   "source": [
    "inventario"
   ]
  },
  {
   "cell_type": "code",
   "execution_count": 42,
   "metadata": {},
   "outputs": [],
   "source": [
    "def calcular_valor_inventario():\n",
    "    suma_total = 0\n",
    "    for elementos in inventario:\n",
    "        suma = elementos['precio'] * elementos['cantidad']\n",
    "        suma_total = suma_total + suma\n",
    "    \n",
    "    print(f'El valor del inventario es de {suma_total}€')\n"
   ]
  },
  {
   "cell_type": "code",
   "execution_count": 43,
   "metadata": {},
   "outputs": [
    {
     "name": "stdout",
     "output_type": "stream",
     "text": [
      "El valor del inventario es de 21700€\n"
     ]
    }
   ],
   "source": [
    "calcular_valor_inventario()"
   ]
  },
  {
   "cell_type": "code",
   "execution_count": 44,
   "metadata": {},
   "outputs": [
    {
     "data": {
      "text/plain": [
       "[{'nombre': 'camiseta', 'precio': 10, 'cantidad': 800},\n",
       " {'nombre': 'pantalones', 'precio': 35, 'cantidad': 200},\n",
       " {'nombre': 'chaqueta', 'precio': 40, 'cantidad': 150},\n",
       " {'nombre': 'calcetines', 'precio': 2, 'cantidad': 300},\n",
       " {'nombre': 'zapatos', 'precio': 50, 'cantidad': 2}]"
      ]
     },
     "execution_count": 44,
     "metadata": {},
     "output_type": "execute_result"
    }
   ],
   "source": [
    "inventario"
   ]
  },
  {
   "cell_type": "code",
   "execution_count": 90,
   "metadata": {},
   "outputs": [],
   "source": [
    "def realizar_compras():\n",
    "    print('¿Qué quieres comprar?')\n",
    "    print('--------------------------------------------------------------------')\n",
    "    for productos in inventario:\n",
    "        nombre = productos['nombre']\n",
    "        precio = productos['precio']\n",
    "        if productos['cantidad'] != 0:\n",
    "            disponible = 'En stock'\n",
    "        else:\n",
    "            disponible = 'Agotado'\n",
    "        print(f'Nombre: {nombre}, Precio: {precio}€, Disponible: {disponible}')\n",
    "    print('--------------------------------------------------------------------')\n",
    "\n",
    "    finalizar = 'no'\n",
    "    total_pedido = 0\n",
    "    contador = 0\n",
    "    while finalizar != 'si':\n",
    "        print('Introduce un artículo')\n",
    "        pedido = input('Introduce un artículo y pulsa Enter.')\n",
    "        for productos in inventario:\n",
    "            contador +=1\n",
    "            if productos['nombre'] == pedido:\n",
    "                contador = 0\n",
    "                print(pedido)\n",
    "                print('-----------------------')\n",
    "                print('Introduce una cantidad')\n",
    "                cantidad = int(input('Introduce una cantidad y pulsa Enter'))\n",
    "                print(cantidad)\n",
    "                print('-----------------------')\n",
    "                if cantidad <= productos['cantidad']:\n",
    "                    productos['cantidad'] -= cantidad\n",
    "                else:\n",
    "                    print('No hay suficiente stock de este producto.')\n",
    "                    print(f'Unidades restantes: {productos['cantidad']}')\n",
    "                    break\n",
    "                precio = productos['precio']\n",
    "                total_pedido = total_pedido + cantidad * precio\n",
    "                print(f'Cesta de la compra: {pedido}')\n",
    "                print(f'Subtotal: {total_pedido}€')\n",
    "                print('-----------------------')\n",
    "                break\n",
    "            if contador == len(inventario):\n",
    "                contador = 0\n",
    "                print(f'El artículo {pedido} no está en el catálogo')\n",
    "        print(f'¿Desea finalizar su compra?')\n",
    "        finalizar = input('Escriba \"si\" para finalizar su compra, o pulse Enter para continuar comprando')\n",
    "        if finalizar != 'si':\n",
    "            print('--------------- Continúe con la compra ---------------')\n",
    "    print('--------------------------------------------------------------------')\n",
    "    print(f'Total a pagar: {total_pedido}€')\n"
   ]
  },
  {
   "cell_type": "code",
   "execution_count": 46,
   "metadata": {},
   "outputs": [
    {
     "data": {
      "text/plain": [
       "[{'nombre': 'camiseta', 'precio': 10, 'cantidad': 800},\n",
       " {'nombre': 'pantalones', 'precio': 35, 'cantidad': 200},\n",
       " {'nombre': 'chaqueta', 'precio': 40, 'cantidad': 150},\n",
       " {'nombre': 'calcetines', 'precio': 2, 'cantidad': 300},\n",
       " {'nombre': 'zapatos', 'precio': 50, 'cantidad': 2}]"
      ]
     },
     "execution_count": 46,
     "metadata": {},
     "output_type": "execute_result"
    }
   ],
   "source": [
    "inventario"
   ]
  },
  {
   "cell_type": "code",
   "execution_count": 47,
   "metadata": {},
   "outputs": [
    {
     "name": "stdout",
     "output_type": "stream",
     "text": [
      "¿Qué quieres comprar?\n",
      "--------------------------------------------------------------------\n",
      "Nombre: camiseta, Precio: 10€, Disponible: En stock\n",
      "Nombre: pantalones, Precio: 35€, Disponible: En stock\n",
      "Nombre: chaqueta, Precio: 40€, Disponible: En stock\n",
      "Nombre: calcetines, Precio: 2€, Disponible: En stock\n",
      "Nombre: zapatos, Precio: 50€, Disponible: En stock\n",
      "--------------------------------------------------------------------\n",
      "Introduce un artículo\n",
      "camiseta\n",
      "-----------------------\n",
      "Introduce una cantidad\n",
      "3\n",
      "-----------------------\n",
      "Cesta de la compra: camiseta\n",
      "Subtotal: 30€\n",
      "-----------------------\n",
      "¿Desea finalizar su compra?\n",
      "--------------- Continúe con la compra ---------------\n",
      "Introduce un artículo\n",
      "zapatos\n",
      "-----------------------\n",
      "Introduce una cantidad\n",
      "1\n",
      "-----------------------\n",
      "Cesta de la compra: zapatos\n",
      "Subtotal: 80€\n",
      "-----------------------\n",
      "¿Desea finalizar su compra?\n",
      "--------------------------------------------------------------------\n",
      "Total a pagar: 80€\n"
     ]
    },
    {
     "data": {
      "text/plain": [
       "80"
      ]
     },
     "execution_count": 47,
     "metadata": {},
     "output_type": "execute_result"
    }
   ],
   "source": [
    "realizar_compras()"
   ]
  },
  {
   "cell_type": "code",
   "execution_count": 48,
   "metadata": {},
   "outputs": [],
   "source": [
    "def procesar_pago():\n",
    "    while ValueError:\n",
    "        try:\n",
    "            print('Total a pagar:')\n",
    "            ticket = float(input('Ingrese la cantidad a pagar y pulse Enter'))\n",
    "            print(ticket)\n",
    "            print('Cantidad de pago:')\n",
    "            pago = float(input('Introduce el importe'))\n",
    "            print(pago)\n",
    "            print('-----------------------')\n",
    "\n",
    "            diferencia = pago - ticket\n",
    "            if diferencia >= 0:\n",
    "                print(f'Pago exitoso, su cambio es de {diferencia}€')\n",
    "                break\n",
    "            else:\n",
    "                print('Saldo insuficiente, ingrese una cantidad mayor')\n",
    "        except ValueError:\n",
    "            print('El valor introducido no es válido')\n",
    "    \n",
    "    \n"
   ]
  },
  {
   "cell_type": "code",
   "execution_count": 49,
   "metadata": {},
   "outputs": [
    {
     "name": "stdout",
     "output_type": "stream",
     "text": [
      "Total a pagar:\n",
      "100.0\n",
      "Cantidad de pago:\n",
      "150.0\n",
      "-----------------------\n",
      "Pago exitoso, su cambio es de 50.0€\n"
     ]
    }
   ],
   "source": [
    "procesar_pago()"
   ]
  },
  {
   "cell_type": "code",
   "execution_count": 83,
   "metadata": {},
   "outputs": [],
   "source": [
    "clientes = {}\n",
    "\n",
    "def agregar_cliente(nombre, email):\n",
    "    email_dic = {}\n",
    "    print('Nuevo cliente')\n",
    "    print('-----------------------')\n",
    "    print(f'Nombre: {nombre}')\n",
    "    print(f'Email: {email}')\n",
    "    print('-----------------------')\n",
    "    email_dic.update({'Email':email})\n",
    "    clientes.update({nombre:email_dic})\n",
    "    return print(f'El cliente {nombre} se ha agregado correctamente.')\n",
    "    \n"
   ]
  },
  {
   "cell_type": "code",
   "execution_count": 84,
   "metadata": {},
   "outputs": [
    {
     "name": "stdout",
     "output_type": "stream",
     "text": [
      "Nuevo cliente\n",
      "-----------------------\n",
      "Nombre: Juani\n",
      "Email: juanitajuani@gmail.com\n",
      "-----------------------\n",
      "El cliente Juani se ha agregado correctamente.\n",
      "Nuevo cliente\n",
      "-----------------------\n",
      "Nombre: Chari\n",
      "Email: charito@gmail.com\n",
      "-----------------------\n",
      "El cliente Chari se ha agregado correctamente.\n",
      "Nuevo cliente\n",
      "-----------------------\n",
      "Nombre: Pepi\n",
      "Email: pepita@gmail.com\n",
      "-----------------------\n",
      "El cliente Pepi se ha agregado correctamente.\n",
      "Nuevo cliente\n",
      "-----------------------\n",
      "Nombre: Manoli\n",
      "Email: manolita@gmail.com\n",
      "-----------------------\n",
      "El cliente Manoli se ha agregado correctamente.\n"
     ]
    }
   ],
   "source": [
    "agregar_cliente('Juani', 'juanitajuani@gmail.com')\n",
    "agregar_cliente('Chari', 'charito@gmail.com')\n",
    "agregar_cliente('Pepi', 'pepita@gmail.com')\n",
    "agregar_cliente('Manoli', 'manolita@gmail.com')"
   ]
  },
  {
   "cell_type": "code",
   "execution_count": 85,
   "metadata": {},
   "outputs": [
    {
     "data": {
      "text/plain": [
       "{'Juani': {'Email': 'juanitajuani@gmail.com'},\n",
       " 'Chari': {'Email': 'charito@gmail.com'},\n",
       " 'Pepi': {'Email': 'pepita@gmail.com'},\n",
       " 'Manoli': {'Email': 'manolita@gmail.com'}}"
      ]
     },
     "execution_count": 85,
     "metadata": {},
     "output_type": "execute_result"
    }
   ],
   "source": [
    "clientes"
   ]
  },
  {
   "cell_type": "code",
   "execution_count": 86,
   "metadata": {},
   "outputs": [],
   "source": [
    "\n",
    "def ver_cliente():\n",
    "    for nombre, datos in clientes.items():\n",
    "        email = datos['Email']\n",
    "        print(f'Nombre: {nombre}, Email: {email}')"
   ]
  },
  {
   "cell_type": "code",
   "execution_count": 87,
   "metadata": {},
   "outputs": [
    {
     "name": "stdout",
     "output_type": "stream",
     "text": [
      "Nombre: Juani, Email: juanitajuani@gmail.com\n",
      "Nombre: Chari, Email: charito@gmail.com\n",
      "Nombre: Pepi, Email: pepita@gmail.com\n",
      "Nombre: Manoli, Email: manolita@gmail.com\n"
     ]
    }
   ],
   "source": [
    "ver_cliente()"
   ]
  },
  {
   "cell_type": "code",
   "execution_count": 111,
   "metadata": {},
   "outputs": [],
   "source": [
    "carrito = {'camiseta':{'Precio':5, 'Cantidad':2}, 'pantalon':{'Precio':15, 'Cantidad':1}}\n",
    "\n",
    "def registrar_compra(nombre_cliente):\n",
    "    if nombre_cliente in clientes.keys():\n",
    "        dicc_compras = {}\n",
    "        for producto, valores in carrito.items():\n",
    "            precio = precio + valores['Precio']*valores['Cantidad']\n",
    "            dicc_compras.update({'Compras':[carrito]})\n",
    "        print('Compra registrada')\n",
    "\n",
    "    else:\n",
    "        print('Este cliente aún no está registrado')"
   ]
  },
  {
   "cell_type": "code",
   "execution_count": 112,
   "metadata": {},
   "outputs": [
    {
     "ename": "UnboundLocalError",
     "evalue": "cannot access local variable 'precio' where it is not associated with a value",
     "output_type": "error",
     "traceback": [
      "\u001b[1;31m---------------------------------------------------------------------------\u001b[0m",
      "\u001b[1;31mUnboundLocalError\u001b[0m                         Traceback (most recent call last)",
      "Cell \u001b[1;32mIn[112], line 1\u001b[0m\n\u001b[1;32m----> 1\u001b[0m registrar_compra(\u001b[38;5;124m'\u001b[39m\u001b[38;5;124mManoli\u001b[39m\u001b[38;5;124m'\u001b[39m)\n",
      "Cell \u001b[1;32mIn[111], line 7\u001b[0m, in \u001b[0;36mregistrar_compra\u001b[1;34m(nombre_cliente)\u001b[0m\n\u001b[0;32m      5\u001b[0m dicc_compras \u001b[38;5;241m=\u001b[39m {}\n\u001b[0;32m      6\u001b[0m \u001b[38;5;28;01mfor\u001b[39;00m producto, valores \u001b[38;5;129;01min\u001b[39;00m carrito\u001b[38;5;241m.\u001b[39mitems():\n\u001b[1;32m----> 7\u001b[0m     precio \u001b[38;5;241m=\u001b[39m precio \u001b[38;5;241m+\u001b[39m valores[\u001b[38;5;124m'\u001b[39m\u001b[38;5;124mPrecio\u001b[39m\u001b[38;5;124m'\u001b[39m]\u001b[38;5;241m*\u001b[39mvalores[\u001b[38;5;124m'\u001b[39m\u001b[38;5;124mCantidad\u001b[39m\u001b[38;5;124m'\u001b[39m]\n\u001b[0;32m      8\u001b[0m     dicc_compras\u001b[38;5;241m.\u001b[39mupdate({\u001b[38;5;124m'\u001b[39m\u001b[38;5;124mCompras\u001b[39m\u001b[38;5;124m'\u001b[39m:[carrito]})\n\u001b[0;32m      9\u001b[0m \u001b[38;5;28mprint\u001b[39m(\u001b[38;5;124m'\u001b[39m\u001b[38;5;124mCompra registrada\u001b[39m\u001b[38;5;124m'\u001b[39m)\n",
      "\u001b[1;31mUnboundLocalError\u001b[0m: cannot access local variable 'precio' where it is not associated with a value"
     ]
    }
   ],
   "source": [
    "registrar_compra('Manoli')"
   ]
  },
  {
   "cell_type": "code",
   "execution_count": 108,
   "metadata": {},
   "outputs": [
    {
     "ename": "UnboundLocalError",
     "evalue": "cannot access local variable 'precio' where it is not associated with a value",
     "output_type": "error",
     "traceback": [
      "\u001b[1;31m---------------------------------------------------------------------------\u001b[0m",
      "\u001b[1;31mUnboundLocalError\u001b[0m                         Traceback (most recent call last)",
      "Cell \u001b[1;32mIn[108], line 3\u001b[0m\n\u001b[0;32m      1\u001b[0m carrito_manoli \u001b[38;5;241m=\u001b[39m {\u001b[38;5;124m'\u001b[39m\u001b[38;5;124mcamiseta\u001b[39m\u001b[38;5;124m'\u001b[39m:{\u001b[38;5;124m'\u001b[39m\u001b[38;5;124mPrecio\u001b[39m\u001b[38;5;124m'\u001b[39m:\u001b[38;5;241m5\u001b[39m, \u001b[38;5;124m'\u001b[39m\u001b[38;5;124mCantidad\u001b[39m\u001b[38;5;124m'\u001b[39m:\u001b[38;5;241m2\u001b[39m}, \u001b[38;5;124m'\u001b[39m\u001b[38;5;124mpantalon\u001b[39m\u001b[38;5;124m'\u001b[39m:{\u001b[38;5;124m'\u001b[39m\u001b[38;5;124mPrecio\u001b[39m\u001b[38;5;124m'\u001b[39m:\u001b[38;5;241m15\u001b[39m, \u001b[38;5;124m'\u001b[39m\u001b[38;5;124mCantidad\u001b[39m\u001b[38;5;124m'\u001b[39m:\u001b[38;5;241m1\u001b[39m}}\n\u001b[1;32m----> 3\u001b[0m registrar_compra(\u001b[38;5;124m'\u001b[39m\u001b[38;5;124mManoli\u001b[39m\u001b[38;5;124m'\u001b[39m, carrito_manoli)\n",
      "Cell \u001b[1;32mIn[106], line 4\u001b[0m, in \u001b[0;36mregistrar_compra\u001b[1;34m(nombre_cliente, carrito)\u001b[0m\n\u001b[0;32m      2\u001b[0m \u001b[38;5;28;01mif\u001b[39;00m nombre_cliente \u001b[38;5;129;01min\u001b[39;00m clientes\u001b[38;5;241m.\u001b[39mkeys():\n\u001b[0;32m      3\u001b[0m     \u001b[38;5;28;01mfor\u001b[39;00m producto, valores \u001b[38;5;129;01min\u001b[39;00m carrito\u001b[38;5;241m.\u001b[39mitems():\n\u001b[1;32m----> 4\u001b[0m         precio \u001b[38;5;241m=\u001b[39m precio \u001b[38;5;241m+\u001b[39m valores[\u001b[38;5;124m'\u001b[39m\u001b[38;5;124mPrecio\u001b[39m\u001b[38;5;124m'\u001b[39m]\u001b[38;5;241m*\u001b[39mvalores[\u001b[38;5;124m'\u001b[39m\u001b[38;5;124mCantidad\u001b[39m\u001b[38;5;124m'\u001b[39m]\n\u001b[0;32m      5\u001b[0m     datos \u001b[38;5;241m=\u001b[39m clientes\u001b[38;5;241m.\u001b[39mvalues()\n\u001b[0;32m      6\u001b[0m     datos\u001b[38;5;241m.\u001b[39mupdate({\u001b[38;5;124m'\u001b[39m\u001b[38;5;124mCompras\u001b[39m\u001b[38;5;124m'\u001b[39m:[carrito]})\n",
      "\u001b[1;31mUnboundLocalError\u001b[0m: cannot access local variable 'precio' where it is not associated with a value"
     ]
    }
   ],
   "source": [
    "carrito_manoli = {'camiseta':{'Precio':5, 'Cantidad':2}, 'pantalon':{'Precio':15, 'Cantidad':1}}\n",
    "\n",
    "registrar_compra('Manoli', carrito_manoli)"
   ]
  },
  {
   "cell_type": "code",
   "execution_count": 104,
   "metadata": {},
   "outputs": [
    {
     "data": {
      "text/plain": [
       "15"
      ]
     },
     "execution_count": 104,
     "metadata": {},
     "output_type": "execute_result"
    }
   ],
   "source": [
    "carrito = {'camiseta':{'Precio':5, 'Cantidad':2}, 'pantalon':{'Precio':15, 'Cantidad':1}}\n",
    "\n",
    "\n",
    "for producto, valores in carrito.items():\n",
    "\n",
    "    precio = valores['Precio']\n",
    "\n",
    "precio"
   ]
  }
 ],
 "metadata": {
  "kernelspec": {
   "display_name": "base",
   "language": "python",
   "name": "python3"
  },
  "language_info": {
   "codemirror_mode": {
    "name": "ipython",
    "version": 3
   },
   "file_extension": ".py",
   "mimetype": "text/x-python",
   "name": "python",
   "nbconvert_exporter": "python",
   "pygments_lexer": "ipython3",
   "version": "3.12.4"
  }
 },
 "nbformat": 4,
 "nbformat_minor": 2
}
