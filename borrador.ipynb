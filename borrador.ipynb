{
 "cells": [
  {
   "cell_type": "code",
   "execution_count": 132,
   "metadata": {},
   "outputs": [],
   "source": [
    "inventario = []\n",
    "\n",
    "def agregar_producto(nombre, precio, cantidad):\n",
    "    for elemento in inventario:\n",
    "        if nombre == elemento['nombre']:\n",
    "            elemento['precio'] = precio\n",
    "            elemento['cantidad'] = cantidad\n",
    "            print(f'El artículo {nombre} se ha actualizado correctamente:')\n",
    "            print(f'Precio: {precio}')\n",
    "            print(f'Cantidad: {cantidad}')\n",
    "            print('-------------------------------------------------------')\n",
    "            return\n",
    "    \n",
    "    inventario.append({'nombre': nombre, 'precio': precio, 'cantidad': cantidad})\n",
    "    print(f'El artículo {nombre} se ha agregado correctamente:')\n",
    "    print(f'Precio: {precio}')\n",
    "    print(f'Cantidad: {cantidad}')\n",
    "    print('-------------------------------------------------------')\n",
    "        \n",
    "\n"
   ]
  },
  {
   "cell_type": "code",
   "execution_count": 133,
   "metadata": {},
   "outputs": [
    {
     "data": {
      "text/plain": [
       "[]"
      ]
     },
     "execution_count": 133,
     "metadata": {},
     "output_type": "execute_result"
    }
   ],
   "source": [
    "inventario"
   ]
  },
  {
   "cell_type": "code",
   "execution_count": 134,
   "metadata": {},
   "outputs": [
    {
     "name": "stdout",
     "output_type": "stream",
     "text": [
      "El artículo camiseta se ha agregado correctamente:\n",
      "Precio: 15\n",
      "Cantidad: 100\n",
      "-------------------------------------------------------\n"
     ]
    }
   ],
   "source": [
    "agregar_producto('camiseta', 15, 100)"
   ]
  },
  {
   "cell_type": "code",
   "execution_count": 135,
   "metadata": {},
   "outputs": [
    {
     "data": {
      "text/plain": [
       "[{'nombre': 'camiseta', 'precio': 15, 'cantidad': 100}]"
      ]
     },
     "execution_count": 135,
     "metadata": {},
     "output_type": "execute_result"
    }
   ],
   "source": [
    "inventario"
   ]
  },
  {
   "cell_type": "code",
   "execution_count": 136,
   "metadata": {},
   "outputs": [
    {
     "name": "stdout",
     "output_type": "stream",
     "text": [
      "El artículo pantanlones se ha agregado correctamente:\n",
      "Precio: 12\n",
      "Cantidad: 50\n",
      "-------------------------------------------------------\n"
     ]
    }
   ],
   "source": [
    "agregar_producto('pantanlones', 12, 50)"
   ]
  },
  {
   "cell_type": "code",
   "execution_count": 137,
   "metadata": {},
   "outputs": [
    {
     "data": {
      "text/plain": [
       "[{'nombre': 'camiseta', 'precio': 15, 'cantidad': 100},\n",
       " {'nombre': 'pantanlones', 'precio': 12, 'cantidad': 50}]"
      ]
     },
     "execution_count": 137,
     "metadata": {},
     "output_type": "execute_result"
    }
   ],
   "source": [
    "inventario"
   ]
  },
  {
   "cell_type": "code",
   "execution_count": 138,
   "metadata": {},
   "outputs": [
    {
     "name": "stdout",
     "output_type": "stream",
     "text": [
      "El artículo camiseta se ha actualizado correctamente:\n",
      "Precio: 10\n",
      "Cantidad: 50\n",
      "-------------------------------------------------------\n"
     ]
    }
   ],
   "source": [
    "agregar_producto('camiseta', 10, 50)"
   ]
  },
  {
   "cell_type": "code",
   "execution_count": 139,
   "metadata": {},
   "outputs": [
    {
     "data": {
      "text/plain": [
       "[{'nombre': 'camiseta', 'precio': 10, 'cantidad': 50},\n",
       " {'nombre': 'pantanlones', 'precio': 12, 'cantidad': 50}]"
      ]
     },
     "execution_count": 139,
     "metadata": {},
     "output_type": "execute_result"
    }
   ],
   "source": [
    "inventario"
   ]
  },
  {
   "cell_type": "code",
   "execution_count": 140,
   "metadata": {},
   "outputs": [],
   "source": [
    "def ver_inventario():\n",
    "    for productos in inventario:\n",
    "        nombre = productos['nombre']\n",
    "        precio = productos['precio']\n",
    "        cantidad = productos['cantidad']\n",
    "        print(f'Nombre: {nombre}, Precio: {precio}€, Cantidad: {cantidad}')\n",
    "    return"
   ]
  },
  {
   "cell_type": "code",
   "execution_count": 141,
   "metadata": {},
   "outputs": [
    {
     "data": {
      "text/plain": [
       "[{'nombre': 'camiseta', 'precio': 10, 'cantidad': 50},\n",
       " {'nombre': 'pantanlones', 'precio': 12, 'cantidad': 50}]"
      ]
     },
     "execution_count": 141,
     "metadata": {},
     "output_type": "execute_result"
    }
   ],
   "source": [
    "inventario"
   ]
  },
  {
   "cell_type": "code",
   "execution_count": 142,
   "metadata": {},
   "outputs": [
    {
     "name": "stdout",
     "output_type": "stream",
     "text": [
      "Nombre: camiseta, Precio: 10€, Cantidad: 50\n",
      "Nombre: pantanlones, Precio: 12€, Cantidad: 50\n"
     ]
    }
   ],
   "source": [
    "ver_inventario()"
   ]
  },
  {
   "cell_type": "code",
   "execution_count": 143,
   "metadata": {},
   "outputs": [],
   "source": [
    "def buscar_producto(nombre):\n",
    "    for productos in inventario:\n",
    "        if nombre == productos['nombre']:\n",
    "            precio = productos['precio']\n",
    "            cantidad = productos['cantidad']\n",
    "            print(f'Nombre: {nombre}, Precio: {precio}€, Cantidad: {cantidad}')\n",
    "    return"
   ]
  },
  {
   "cell_type": "code",
   "execution_count": 144,
   "metadata": {},
   "outputs": [
    {
     "name": "stdout",
     "output_type": "stream",
     "text": [
      "Nombre: camiseta, Precio: 10€, Cantidad: 50\n"
     ]
    }
   ],
   "source": [
    "buscar_producto('camiseta')"
   ]
  },
  {
   "cell_type": "code",
   "execution_count": 145,
   "metadata": {},
   "outputs": [],
   "source": [
    "def actualizar_stock(nombre, cantidad):\n",
    "    for elemento in inventario:\n",
    "        if nombre == elemento['nombre']:\n",
    "            elemento['cantidad'] = cantidad\n",
    "            print(f'El stock de {nombre} se ha actualizado correctamente:')\n",
    "            print(f'Cantidad: {cantidad}')\n",
    "            print('-------------------------------------------------------')\n",
    "            return\n",
    "    \n",
    "        else:\n",
    "            print(f'El producto {nombre} no se encuentra en el inventario.')\n",
    "            break"
   ]
  },
  {
   "cell_type": "code",
   "execution_count": 146,
   "metadata": {},
   "outputs": [
    {
     "name": "stdout",
     "output_type": "stream",
     "text": [
      "El stock de camiseta se ha actualizado correctamente:\n",
      "Cantidad: 800\n",
      "-------------------------------------------------------\n"
     ]
    }
   ],
   "source": [
    "actualizar_stock('camiseta', 800)"
   ]
  },
  {
   "cell_type": "code",
   "execution_count": 147,
   "metadata": {},
   "outputs": [
    {
     "data": {
      "text/plain": [
       "[{'nombre': 'camiseta', 'precio': 10, 'cantidad': 800},\n",
       " {'nombre': 'pantanlones', 'precio': 12, 'cantidad': 50}]"
      ]
     },
     "execution_count": 147,
     "metadata": {},
     "output_type": "execute_result"
    }
   ],
   "source": [
    "inventario"
   ]
  },
  {
   "cell_type": "code",
   "execution_count": 148,
   "metadata": {},
   "outputs": [
    {
     "name": "stdout",
     "output_type": "stream",
     "text": [
      "El producto calcetines no se encuentra en el inventario.\n"
     ]
    }
   ],
   "source": [
    "actualizar_stock('calcetines', 50)"
   ]
  },
  {
   "cell_type": "code",
   "execution_count": 149,
   "metadata": {},
   "outputs": [],
   "source": [
    "inventario = [{'nombre': 'camiseta', 'precio': 10, 'cantidad': 800}, {'nombre': 'pantalones', 'precio': 12, 'cantidad': 50}]\n",
    "\n",
    "def eliminar_producto(nombre):\n",
    "    for elemento in inventario:\n",
    "        if nombre == elemento['nombre']:\n",
    "            inventario.remove(elemento)\n",
    "            print(f'El artículo {nombre} se ha eliminado correctamente:')\n",
    "            print('-------------------------------------------------------')\n",
    "            return\n",
    "    \n",
    "    print(f'El producto {nombre} no se encuentra en el inventario.')"
   ]
  },
  {
   "cell_type": "code",
   "execution_count": 150,
   "metadata": {},
   "outputs": [
    {
     "name": "stdout",
     "output_type": "stream",
     "text": [
      "El artículo pantalones se ha eliminado correctamente:\n",
      "-------------------------------------------------------\n"
     ]
    }
   ],
   "source": [
    "eliminar_producto('pantalones')"
   ]
  },
  {
   "cell_type": "code",
   "execution_count": 151,
   "metadata": {},
   "outputs": [
    {
     "name": "stdout",
     "output_type": "stream",
     "text": [
      "El artículo pantalones se ha agregado correctamente:\n",
      "Precio: 35\n",
      "Cantidad: 200\n",
      "-------------------------------------------------------\n",
      "El artículo chaqueta se ha agregado correctamente:\n",
      "Precio: 40\n",
      "Cantidad: 150\n",
      "-------------------------------------------------------\n",
      "El artículo calcetines se ha agregado correctamente:\n",
      "Precio: 2\n",
      "Cantidad: 300\n",
      "-------------------------------------------------------\n",
      "El artículo zapatos se ha agregado correctamente:\n",
      "Precio: 50\n",
      "Cantidad: 2\n",
      "-------------------------------------------------------\n"
     ]
    }
   ],
   "source": [
    "agregar_producto('pantalones', 35, 200)\n",
    "agregar_producto('chaqueta', 40, 150)\n",
    "agregar_producto('calcetines', 2, 300)\n",
    "agregar_producto('zapatos', 50, 2)"
   ]
  },
  {
   "cell_type": "code",
   "execution_count": 152,
   "metadata": {},
   "outputs": [
    {
     "data": {
      "text/plain": [
       "[{'nombre': 'camiseta', 'precio': 10, 'cantidad': 800},\n",
       " {'nombre': 'pantalones', 'precio': 35, 'cantidad': 200},\n",
       " {'nombre': 'chaqueta', 'precio': 40, 'cantidad': 150},\n",
       " {'nombre': 'calcetines', 'precio': 2, 'cantidad': 300},\n",
       " {'nombre': 'zapatos', 'precio': 50, 'cantidad': 2}]"
      ]
     },
     "execution_count": 152,
     "metadata": {},
     "output_type": "execute_result"
    }
   ],
   "source": [
    "inventario"
   ]
  },
  {
   "cell_type": "code",
   "execution_count": 153,
   "metadata": {},
   "outputs": [],
   "source": [
    "def calcular_valor_inventario():\n",
    "    suma_total = 0\n",
    "    for elementos in inventario:\n",
    "        suma = elementos['precio'] * elementos['cantidad']\n",
    "        suma_total = suma_total + suma\n",
    "    \n",
    "    print(f'El valor del inventario es de {suma_total}€')\n"
   ]
  },
  {
   "cell_type": "code",
   "execution_count": 154,
   "metadata": {},
   "outputs": [
    {
     "name": "stdout",
     "output_type": "stream",
     "text": [
      "El valor del inventario es de 21700€\n"
     ]
    }
   ],
   "source": [
    "calcular_valor_inventario()"
   ]
  },
  {
   "cell_type": "code",
   "execution_count": 155,
   "metadata": {},
   "outputs": [
    {
     "data": {
      "text/plain": [
       "[{'nombre': 'camiseta', 'precio': 10, 'cantidad': 800},\n",
       " {'nombre': 'pantalones', 'precio': 35, 'cantidad': 200},\n",
       " {'nombre': 'chaqueta', 'precio': 40, 'cantidad': 150},\n",
       " {'nombre': 'calcetines', 'precio': 2, 'cantidad': 300},\n",
       " {'nombre': 'zapatos', 'precio': 50, 'cantidad': 2}]"
      ]
     },
     "execution_count": 155,
     "metadata": {},
     "output_type": "execute_result"
    }
   ],
   "source": [
    "inventario"
   ]
  },
  {
   "cell_type": "code",
   "execution_count": 156,
   "metadata": {},
   "outputs": [],
   "source": [
    "def realizar_compras():\n",
    "    print('¿Qué quieres comprar?')\n",
    "    print('--------------------------------------------------------------------')\n",
    "    for productos in inventario:\n",
    "        nombre = productos['nombre']\n",
    "        precio = productos['precio']\n",
    "        if productos['cantidad'] != 0:\n",
    "            disponible = 'En stock'\n",
    "        else:\n",
    "            disponible = 'Agotado'\n",
    "        print(f'Nombre: {nombre}, Precio: {precio}€, Disponible: {disponible}')\n",
    "    print('--------------------------------------------------------------------')\n",
    "\n",
    "    finalizar = 'no'\n",
    "    total_pedido = 0\n",
    "    contador = 0\n",
    "    while finalizar != 'si':\n",
    "        print('Introduce un artículo')\n",
    "        pedido = input('Introduce un artículo y pulsa Enter.')\n",
    "        for productos in inventario:\n",
    "            contador +=1\n",
    "            if productos['nombre'] == pedido:\n",
    "                contador = 0\n",
    "                print(pedido)\n",
    "                print('-----------------------')\n",
    "                print('Introduce una cantidad')\n",
    "                cantidad = int(input('Introduce una cantidad y pulsa Enter'))\n",
    "                print(cantidad)\n",
    "                print('-----------------------')\n",
    "                if cantidad <= productos['cantidad']:\n",
    "                    productos['cantidad'] -= cantidad\n",
    "                else:\n",
    "                    print('No hay suficiente stock de este producto.')\n",
    "                    print(f'Unidades restantes: {productos['cantidad']}')\n",
    "                    break\n",
    "                precio = productos['precio']\n",
    "                total_pedido = total_pedido + cantidad * precio\n",
    "                print(f'Cesta de la compra: {pedido}')\n",
    "                print(f'Subtotal: {total_pedido}€')\n",
    "                print('-----------------------')\n",
    "                break\n",
    "            if contador == len(inventario):\n",
    "                contador = 0\n",
    "                print(f'El artículo {pedido} no está disponible')\n",
    "        print(f'¿Desea finalizar su compra?')\n",
    "        finalizar = input('Escriba \"si\" para finalizar su compra, o pulse Enter para continuar comprando')\n",
    "        if finalizar != 'si':\n",
    "            print('--------------- Continúe con la compra ---------------')\n",
    "    print('--------------------------------------------------------------------')\n",
    "    print(f'Total a pagar: {total_pedido}€')\n"
   ]
  },
  {
   "cell_type": "code",
   "execution_count": 157,
   "metadata": {},
   "outputs": [
    {
     "data": {
      "text/plain": [
       "[{'nombre': 'camiseta', 'precio': 10, 'cantidad': 800},\n",
       " {'nombre': 'pantalones', 'precio': 35, 'cantidad': 200},\n",
       " {'nombre': 'chaqueta', 'precio': 40, 'cantidad': 150},\n",
       " {'nombre': 'calcetines', 'precio': 2, 'cantidad': 300},\n",
       " {'nombre': 'zapatos', 'precio': 50, 'cantidad': 2}]"
      ]
     },
     "execution_count": 157,
     "metadata": {},
     "output_type": "execute_result"
    }
   ],
   "source": [
    "inventario"
   ]
  },
  {
   "cell_type": "code",
   "execution_count": 158,
   "metadata": {},
   "outputs": [
    {
     "name": "stdout",
     "output_type": "stream",
     "text": [
      "¿Qué quieres comprar?\n",
      "--------------------------------------------------------------------\n",
      "Nombre: camiseta, Precio: 10€, Disponible: En stock\n",
      "Nombre: pantalones, Precio: 35€, Disponible: En stock\n",
      "Nombre: chaqueta, Precio: 40€, Disponible: En stock\n",
      "Nombre: calcetines, Precio: 2€, Disponible: En stock\n",
      "Nombre: zapatos, Precio: 50€, Disponible: En stock\n",
      "--------------------------------------------------------------------\n",
      "Introduce un artículo\n",
      "camiseta\n",
      "-----------------------\n",
      "Introduce una cantidad\n",
      "1\n",
      "-----------------------\n",
      "Cesta de la compra: camiseta\n",
      "Subtotal: 10€\n",
      "-----------------------\n",
      "¿Desea finalizar su compra?\n",
      "--------------- Continúe con la compra ---------------\n",
      "Introduce un artículo\n",
      "zapatos\n",
      "-----------------------\n",
      "Introduce una cantidad\n",
      "3\n",
      "-----------------------\n",
      "No hay suficiente stock de este producto.\n",
      "Unidades restantes: 2\n",
      "¿Desea finalizar su compra?\n",
      "--------------- Continúe con la compra ---------------\n",
      "Introduce un artículo\n",
      "zapatos\n",
      "-----------------------\n",
      "Introduce una cantidad\n",
      "1\n",
      "-----------------------\n",
      "Cesta de la compra: zapatos\n",
      "Subtotal: 60€\n",
      "-----------------------\n",
      "¿Desea finalizar su compra?\n",
      "--------------------------------------------------------------------\n",
      "Total a pagar: 60€\n"
     ]
    }
   ],
   "source": [
    "realizar_compras()"
   ]
  },
  {
   "cell_type": "code",
   "execution_count": null,
   "metadata": {},
   "outputs": [],
   "source": [
    "def procesar_pago():\n",
    "    "
   ]
  }
 ],
 "metadata": {
  "kernelspec": {
   "display_name": "base",
   "language": "python",
   "name": "python3"
  },
  "language_info": {
   "codemirror_mode": {
    "name": "ipython",
    "version": 3
   },
   "file_extension": ".py",
   "mimetype": "text/x-python",
   "name": "python",
   "nbconvert_exporter": "python",
   "pygments_lexer": "ipython3",
   "version": "3.12.4"
  }
 },
 "nbformat": 4,
 "nbformat_minor": 2
}
