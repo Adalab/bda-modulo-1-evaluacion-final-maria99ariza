{
 "cells": [
  {
   "cell_type": "code",
   "execution_count": 91,
   "metadata": {},
   "outputs": [],
   "source": [
    "class TiendaOnline:\n",
    "    def __init__(self, nombre):\n",
    "        self.nombre = nombre\n",
    "        self.inventario = []  # Lista de diccionarios: 'nombre', 'precio' y 'cantidad'\n",
    "        self.clientes = {}  # Diccionario de diccionarios: {'nombre':{'email':'@email.com', 'compras':[]}}\n",
    "        self.ventas_totales = 0.0  # Float\n",
    "    \n",
    "    def agregar_producto(self, nombre, precio, cantidad):\n",
    "        for elemento in self.inventario:\n",
    "            if nombre == elemento['nombre']:\n",
    "                elemento['precio'] = precio\n",
    "                elemento['cantidad'] = cantidad\n",
    "                print(f'El artículo {nombre} se ha actualizado correctamente:')\n",
    "                print(f'Precio: {precio}')\n",
    "                print(f'Cantidad: {cantidad}')\n",
    "                print('-------------------------------------------------------')\n",
    "        \n",
    "        self.inventario.append({'nombre': nombre, 'precio': precio, 'cantidad': cantidad})\n",
    "        print(f'El artículo {nombre} se ha agregado correctamente:')\n",
    "        print(f'Precio: {precio}')\n",
    "        print(f'Cantidad: {cantidad}')\n",
    "        print('-------------------------------------------------------')\n",
    "    \n",
    "    def ver_inventario(self):\n",
    "        for productos in self.inventario:\n",
    "            nombre = productos['nombre']\n",
    "            precio = productos['precio']\n",
    "            cantidad = productos['cantidad']\n",
    "            print(f'Nombre: {nombre}, Precio: {precio}€, Cantidad: {cantidad}')\n",
    "        return\n",
    "        \n",
    "    def buscar_producto(self, nombre):\n",
    "        for productos in self.inventario:\n",
    "            if nombre == productos['nombre']:\n",
    "                precio = productos['precio']\n",
    "                cantidad = productos['cantidad']\n",
    "                print(f'Nombre: {nombre}, Precio: {precio}€, Cantidad: {cantidad}')\n",
    "        return\n",
    "    \n",
    "    def actualizar_stock(self, nombre, cantidad):\n",
    "        for elemento in self.inventario:\n",
    "            if nombre == elemento['nombre']:\n",
    "                elemento['cantidad'] = cantidad\n",
    "                print(f'El stock de {nombre} se ha actualizado correctamente:')\n",
    "                print(f'Cantidad: {cantidad}')\n",
    "                print('-------------------------------------------------------')\n",
    "                return\n",
    "        \n",
    "        print(f'El producto {nombre} no se encuentra en el inventario.')\n",
    "\n",
    "    def eliminar_producto(self, nombre):\n",
    "        for elemento in self.inventario:\n",
    "            if nombre == elemento['nombre']:\n",
    "                self.inventario.remove(elemento)\n",
    "                print(f'El artículo {nombre} se ha eliminado correctamente:')\n",
    "                print('-------------------------------------------------------')\n",
    "                return\n",
    "        \n",
    "        print(f'El producto {nombre} no se encuentra en el inventario.')\n",
    "\n",
    "    def calcular_valor_inventario(self):\n",
    "        suma_total = 0\n",
    "        for elementos in self.inventario:\n",
    "            suma = elementos['precio'] * elementos['cantidad']\n",
    "            suma_total = suma_total + suma\n",
    "        \n",
    "        return print(f'El valor del inventario es de {suma_total}€')\n",
    "    \n",
    "    def realizar_compras(self):\n",
    "        print('¿Qué quieres comprar?') #Preguntamos al cliente qué quiere y printeamos inventario con el precio y stock.\n",
    "        print('--------------------------------------------------------------------')\n",
    "        for productos in self.inventario:\n",
    "            nombre = productos['nombre']\n",
    "            precio = productos['precio']\n",
    "            if productos['cantidad'] != 0:\n",
    "                disponible = 'En stock'\n",
    "            else:\n",
    "                disponible = 'Agotado'\n",
    "            print(f'Nombre: {nombre}, Precio: {precio}€, Disponible: {disponible}')\n",
    "        print('--------------------------------------------------------------------')\n",
    "\n",
    "        finalizar = 'no' #Controlador del while, mientras el cliente no finalice su compra\n",
    "        total_pedido = 0 \n",
    "        contador = 0  #Por cada elemento del inventario, sirve para que el cliente sepa si el artículo introducido está disponible\n",
    "        while finalizar != 'si':\n",
    "            print('Introduce un artículo')\n",
    "            pedido = input('Introduce un artículo y pulsa Enter.')\n",
    "            for productos in self.inventario:\n",
    "                contador += 1\n",
    "                if productos['nombre'] == pedido:\n",
    "                    contador = 0\n",
    "                    print(pedido)\n",
    "                    print('-----------------------')\n",
    "                    print('Introduce una cantidad')\n",
    "                    cantidad = int(input('Introduce una cantidad y pulsa Enter'))\n",
    "                    print(cantidad)\n",
    "                    print('-----------------------')\n",
    "                    if cantidad <= productos['cantidad']:\n",
    "                        productos['cantidad'] -= cantidad\n",
    "                    else:\n",
    "                        print('No hay suficiente stock de este producto.')\n",
    "                        print(f'Unidades restantes: {productos['cantidad']}')\n",
    "                        break\n",
    "                    precio = productos['precio']\n",
    "                    total_pedido = total_pedido + cantidad * precio\n",
    "                    print(f'Cesta de la compra: {pedido}')\n",
    "                    print(f'Subtotal: {total_pedido}€')\n",
    "                    print('-----------------------')\n",
    "                    break\n",
    "                if contador == len(self.inventario):\n",
    "                    contador = 0\n",
    "                    print(f'El artículo {pedido} no está disponible')\n",
    "            print(f'¿Desea finalizar su compra?')\n",
    "            finalizar = input('Escriba \"si\" para finalizar su compra, o pulse Enter para continuar comprando')\n",
    "            if finalizar != 'si':\n",
    "                print('--------------- Continúe con la compra ---------------')\n",
    "        print('--------------------------------------------------------------------')\n",
    "        print(f'Total a pagar: {total_pedido}€')\n",
    "\n",
    "        \n",
    "\n"
   ]
  },
  {
   "cell_type": "code",
   "execution_count": 92,
   "metadata": {},
   "outputs": [
    {
     "name": "stdout",
     "output_type": "stream",
     "text": [
      "El artículo camiseta se ha agregado correctamente:\n",
      "Precio: 5\n",
      "Cantidad: 70\n",
      "-------------------------------------------------------\n",
      "El artículo pantalon se ha agregado correctamente:\n",
      "Precio: 15\n",
      "Cantidad: 100\n",
      "-------------------------------------------------------\n",
      "El artículo chaqueta se ha agregado correctamente:\n",
      "Precio: 20\n",
      "Cantidad: 300\n",
      "-------------------------------------------------------\n",
      "El artículo calcetines se ha agregado correctamente:\n",
      "Precio: 2\n",
      "Cantidad: 500\n",
      "-------------------------------------------------------\n"
     ]
    }
   ],
   "source": [
    "mi_tienda = TiendaOnline(\"La Tienda\")\n",
    "\n",
    "mi_tienda.agregar_producto(\"camiseta\", 5, 70)\n",
    "mi_tienda.agregar_producto(\"pantalon\", 15, 100)\n",
    "mi_tienda.agregar_producto(\"chaqueta\", 20, 300)\n",
    "mi_tienda.agregar_producto(\"calcetines\", 2, 500)"
   ]
  },
  {
   "cell_type": "code",
   "execution_count": 79,
   "metadata": {},
   "outputs": [
    {
     "data": {
      "text/plain": [
       "[{'nombre': 'camiseta', 'precio': 5, 'cantidad': 70},\n",
       " {'nombre': 'pantalon', 'precio': 15, 'cantidad': 100},\n",
       " {'nombre': 'chaqueta', 'precio': 20, 'cantidad': 300},\n",
       " {'nombre': 'calcetines', 'precio': 2, 'cantidad': 500}]"
      ]
     },
     "execution_count": 79,
     "metadata": {},
     "output_type": "execute_result"
    }
   ],
   "source": [
    "mi_tienda.inventario"
   ]
  },
  {
   "cell_type": "code",
   "execution_count": 80,
   "metadata": {},
   "outputs": [
    {
     "name": "stdout",
     "output_type": "stream",
     "text": [
      "Nombre: camiseta, Precio: 5€, Cantidad: 70\n",
      "Nombre: pantalon, Precio: 15€, Cantidad: 100\n",
      "Nombre: chaqueta, Precio: 20€, Cantidad: 300\n",
      "Nombre: calcetines, Precio: 2€, Cantidad: 500\n"
     ]
    }
   ],
   "source": [
    "mi_tienda.ver_inventario()"
   ]
  },
  {
   "cell_type": "code",
   "execution_count": 81,
   "metadata": {},
   "outputs": [
    {
     "name": "stdout",
     "output_type": "stream",
     "text": [
      "Nombre: camiseta, Precio: 5€, Cantidad: 70\n"
     ]
    }
   ],
   "source": [
    "mi_tienda.buscar_producto('camiseta')"
   ]
  },
  {
   "cell_type": "code",
   "execution_count": 82,
   "metadata": {},
   "outputs": [
    {
     "name": "stdout",
     "output_type": "stream",
     "text": [
      "El stock de camiseta se ha actualizado correctamente:\n",
      "Cantidad: 20\n",
      "-------------------------------------------------------\n"
     ]
    }
   ],
   "source": [
    "mi_tienda.actualizar_stock('camiseta', 20)"
   ]
  },
  {
   "cell_type": "code",
   "execution_count": 83,
   "metadata": {},
   "outputs": [
    {
     "data": {
      "text/plain": [
       "[{'nombre': 'camiseta', 'precio': 5, 'cantidad': 20},\n",
       " {'nombre': 'pantalon', 'precio': 15, 'cantidad': 100},\n",
       " {'nombre': 'chaqueta', 'precio': 20, 'cantidad': 300},\n",
       " {'nombre': 'calcetines', 'precio': 2, 'cantidad': 500}]"
      ]
     },
     "execution_count": 83,
     "metadata": {},
     "output_type": "execute_result"
    }
   ],
   "source": [
    "mi_tienda.inventario"
   ]
  },
  {
   "cell_type": "code",
   "execution_count": 84,
   "metadata": {},
   "outputs": [
    {
     "name": "stdout",
     "output_type": "stream",
     "text": [
      "El producto sudadera no se encuentra en el inventario.\n"
     ]
    }
   ],
   "source": [
    "mi_tienda.actualizar_stock('sudadera', 45)"
   ]
  },
  {
   "cell_type": "code",
   "execution_count": 85,
   "metadata": {},
   "outputs": [
    {
     "name": "stdout",
     "output_type": "stream",
     "text": [
      "El artículo calcetines se ha eliminado correctamente:\n",
      "-------------------------------------------------------\n"
     ]
    }
   ],
   "source": [
    "mi_tienda.eliminar_producto('calcetines')"
   ]
  },
  {
   "cell_type": "code",
   "execution_count": 86,
   "metadata": {},
   "outputs": [
    {
     "data": {
      "text/plain": [
       "[{'nombre': 'camiseta', 'precio': 5, 'cantidad': 20},\n",
       " {'nombre': 'pantalon', 'precio': 15, 'cantidad': 100},\n",
       " {'nombre': 'chaqueta', 'precio': 20, 'cantidad': 300}]"
      ]
     },
     "execution_count": 86,
     "metadata": {},
     "output_type": "execute_result"
    }
   ],
   "source": [
    "mi_tienda.inventario"
   ]
  },
  {
   "cell_type": "code",
   "execution_count": 87,
   "metadata": {},
   "outputs": [
    {
     "name": "stdout",
     "output_type": "stream",
     "text": [
      "El producto sudadera no se encuentra en el inventario.\n"
     ]
    }
   ],
   "source": [
    "mi_tienda.eliminar_producto('sudadera')"
   ]
  },
  {
   "cell_type": "code",
   "execution_count": 88,
   "metadata": {},
   "outputs": [
    {
     "name": "stdout",
     "output_type": "stream",
     "text": [
      "El valor del inventario es de 7600€\n"
     ]
    }
   ],
   "source": [
    "mi_tienda.calcular_valor_inventario()"
   ]
  },
  {
   "cell_type": "code",
   "execution_count": 93,
   "metadata": {},
   "outputs": [
    {
     "name": "stdout",
     "output_type": "stream",
     "text": [
      "¿Qué quieres comprar?\n",
      "--------------------------------------------------------------------\n",
      "Nombre: camiseta, Precio: 5€, Disponible: En stock\n",
      "Nombre: pantalon, Precio: 15€, Disponible: En stock\n",
      "Nombre: chaqueta, Precio: 20€, Disponible: En stock\n",
      "Nombre: calcetines, Precio: 2€, Disponible: En stock\n",
      "--------------------------------------------------------------------\n",
      "Introduce un artículo\n",
      "chaqueta\n",
      "-----------------------\n",
      "Introduce una cantidad\n",
      "1\n",
      "-----------------------\n",
      "Cesta de la compra: chaqueta\n",
      "Subtotal: 20€\n",
      "-----------------------\n",
      "¿Desea finalizar su compra?\n",
      "--------------- Continúe con la compra ---------------\n",
      "Introduce un artículo\n",
      "camiseta\n",
      "-----------------------\n",
      "Introduce una cantidad\n",
      "3\n",
      "-----------------------\n",
      "Cesta de la compra: camiseta\n",
      "Subtotal: 35€\n",
      "-----------------------\n",
      "¿Desea finalizar su compra?\n",
      "--------------- Continúe con la compra ---------------\n",
      "Introduce un artículo\n",
      "El artículo zapatos no está disponible\n",
      "¿Desea finalizar su compra?\n",
      "--------------------------------------------------------------------\n",
      "Total a pagar: 35€\n"
     ]
    }
   ],
   "source": [
    "mi_tienda.realizar_compras()"
   ]
  }
 ],
 "metadata": {
  "kernelspec": {
   "display_name": "base",
   "language": "python",
   "name": "python3"
  },
  "language_info": {
   "codemirror_mode": {
    "name": "ipython",
    "version": 3
   },
   "file_extension": ".py",
   "mimetype": "text/x-python",
   "name": "python",
   "nbconvert_exporter": "python",
   "pygments_lexer": "ipython3",
   "version": "3.12.4"
  }
 },
 "nbformat": 4,
 "nbformat_minor": 2
}
